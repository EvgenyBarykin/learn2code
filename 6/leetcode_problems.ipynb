{
 "cells": [
  {
   "cell_type": "code",
   "execution_count": null,
   "metadata": {},
   "outputs": [],
   "source": [
    "class Solution():\n",
    "    def SortedSquares(self, lst):\n",
    "        lst = [num*num for num in lst]\n",
    "        lst = sorted(lst)\n",
    "    return lst"
   ]
  },
  {
   "cell_type": "code",
   "execution_count": 4,
   "metadata": {},
   "outputs": [
    {
     "name": "stdout",
     "output_type": "stream",
     "text": [
      "[0, 1, 4, 9, 16, 36, 100]\n"
     ]
    }
   ],
   "source": [
    "nums = [-4, -2, 0, 1, 3, 6, 10]\n",
    "# решили методом двух указателей\n",
    "# две переменных отслеживают границы: подмассив в массиве или границы списка\n",
    "# изучают в рамках теории алгоритмов\n",
    "class Solution:\n",
    "    def sortedSquares(self, nums):\n",
    "        left = 0\n",
    "        right = len(nums) - 1\n",
    "        result = [None]*len(nums) # создать пустой массив определенной длины\n",
    "        current = len(nums) - 1\n",
    "\n",
    "        while current >= 0:\n",
    "            if abs(nums[left])<abs(nums[right]):\n",
    "                result[current] = nums[right] **2\n",
    "                right -=1\n",
    "            else:\n",
    "                result[current] = nums[left] **2\n",
    "                left +=1\n",
    "            current -=1\n",
    "        return result\n",
    "    \n",
    "sol = Solution()\n",
    "print(sol.sortedSquares(nums))"
   ]
  },
  {
   "cell_type": "code",
   "execution_count": 17,
   "metadata": {},
   "outputs": [
    {
     "name": "stdout",
     "output_type": "stream",
     "text": [
      "[5, 6, 7, 1, 2, 3, 4]\n"
     ]
    }
   ],
   "source": [
    "nums = [1,2,3,4,5,6,7]\n",
    "\n",
    "# решили по-простому\n",
    "\n",
    "class Solution:\n",
    "    def rotate(self, nums, k) -> None:\n",
    "        if k>len(nums):\n",
    "            l = len(nums) % k\n",
    "        else:\n",
    "            l = k\n",
    "        temp = nums[-l:]+nums[:-l]\n",
    "        for i in range(len(temp)):\n",
    "            nums[i] = temp[i]\n",
    "    \n",
    "sol = Solution()\n",
    "print(sol.rotate(nums, 3))"
   ]
  },
  {
   "cell_type": "code",
   "execution_count": 40,
   "metadata": {},
   "outputs": [
    {
     "name": "stdout",
     "output_type": "stream",
     "text": [
      "None\n"
     ]
    },
    {
     "data": {
      "text/plain": [
       "[5, 6, 7, 1, 2, 3, 4]"
      ]
     },
     "execution_count": 40,
     "metadata": {},
     "output_type": "execute_result"
    }
   ],
   "source": [
    "nums = [1,2,3,4,5,6,7]\n",
    "\n",
    "result = [5,6,7,1,2,3,4]\n",
    "# изменяя начальный массив\n",
    "\n",
    "\n",
    "class Solution:\n",
    "    def reverse_in_place(self, nums, start, end):\n",
    "        while (start < end):\n",
    "            nums[start], nums[end] = nums[end], nums[start]\n",
    "            start+=1\n",
    "            end -=1\n",
    "    def rotate(self, nums, k) -> None:\n",
    "        shift =  k % len(nums)\n",
    "        nums.reverse()\n",
    "        self.reverse_in_place(nums, 0, shift-1)\n",
    "        self.reverse_in_place(nums, shift, len(nums) -1)\n",
    "\n",
    "\n",
    "        \n",
    "sol = Solution()\n",
    "print(sol.rotate(nums, 3))\n",
    "nums"
   ]
  },
  {
   "cell_type": "code",
   "execution_count": null,
   "metadata": {},
   "outputs": [],
   "source": [
    "nums = [1,2,3,4,5,6,7]\n",
    "\n",
    "class Solution:\n",
    "    def rotate(self, nums, k) -> None:\n",
    "        shift =  k % len(nums)\n",
    "        for i in range(shift):      \n",
    "            x = nums.pop()\n",
    "            nums.insert(0, x)\n",
    "        \n"
   ]
  },
  {
   "cell_type": "code",
   "execution_count": null,
   "metadata": {},
   "outputs": [],
   "source": [
    "class Solution:\n",
    "    def rotate(self, nums, k) -> None:\n",
    "        shift =  k % len(nums)\n",
    "        for i in range(len(nums)):\n",
    "            x = nums[i+k]\n",
    "            nums[i+k] =  nums[i]    \n",
    "            "
   ]
  }
 ],
 "metadata": {
  "kernelspec": {
   "display_name": "Python 3",
   "language": "python",
   "name": "python3"
  },
  "language_info": {
   "codemirror_mode": {
    "name": "ipython",
    "version": 3
   },
   "file_extension": ".py",
   "mimetype": "text/x-python",
   "name": "python",
   "nbconvert_exporter": "python",
   "pygments_lexer": "ipython3",
   "version": "3.10.9"
  },
  "orig_nbformat": 4
 },
 "nbformat": 4,
 "nbformat_minor": 2
}
