{
 "cells": [
  {
   "cell_type": "code",
   "execution_count": null,
   "metadata": {},
   "outputs": [],
   "source": [
    "class Solution:\n",
    "    def lengthOfLongestSubstring(self, s: str) -> int:\n",
    "        "
   ]
  },
  {
   "cell_type": "code",
   "execution_count": 4,
   "metadata": {},
   "outputs": [
    {
     "data": {
      "text/plain": [
       "1"
      ]
     },
     "execution_count": 4,
     "metadata": {},
     "output_type": "execute_result"
    }
   ],
   "source": [
    "s = \"abcabcbb\"\n",
    "ord('b')-97"
   ]
  },
  {
   "cell_type": "code",
   "execution_count": 45,
   "metadata": {},
   "outputs": [
    {
     "name": "stdout",
     "output_type": "stream",
     "text": [
      "['a'] 1\n",
      "['a'] 1\n",
      "['a', 'b'] 2\n",
      "['b', 'a'] 2\n",
      "['a'] 1\n",
      "['a', 'b'] 2\n",
      "['a', 'b', '!'] 3\n",
      "['!', 'b'] 2\n",
      "['b'] 1\n"
     ]
    },
    {
     "data": {
      "text/plain": [
       "(3, 1)"
      ]
     },
     "execution_count": 45,
     "metadata": {},
     "output_type": "execute_result"
    }
   ],
   "source": [
    "cur_len = 0\n",
    "max_len = 0\n",
    "chars = []\n",
    "s = 'aabaab!bb'\n",
    "\n",
    "for i in range(len(s)):\n",
    "    if s[i] not in chars: # \n",
    "        chars.append(s[i])\n",
    "        cur_len+=1\n",
    "    else:\n",
    "        if cur_len > max_len:\n",
    "            max_len = cur_len\n",
    "        chars.append(s[i])\n",
    "        cur_len -= len(chars[:chars.index(s[i])])    \n",
    "        chars = chars[chars.index(s[i])+1 : ]\n",
    "    print(chars, cur_len)\n",
    "\n",
    "max_len, cur_len\n"
   ]
  },
  {
   "cell_type": "code",
   "execution_count": null,
   "metadata": {},
   "outputs": [],
   "source": [
    "(chars.index('f')"
   ]
  },
  {
   "cell_type": "code",
   "execution_count": 20,
   "metadata": {},
   "outputs": [
    {
     "ename": "ValueError",
     "evalue": "'a' is not in list",
     "output_type": "error",
     "traceback": [
      "\u001b[0;31m---------------------------------------------------------------------------\u001b[0m",
      "\u001b[0;31mValueError\u001b[0m                                Traceback (most recent call last)",
      "Cell \u001b[0;32mIn[20], line 1\u001b[0m\n\u001b[0;32m----> 1\u001b[0m chars\u001b[39m.\u001b[39;49mindex(\u001b[39m'\u001b[39;49m\u001b[39ma\u001b[39;49m\u001b[39m'\u001b[39;49m)\n",
      "\u001b[0;31mValueError\u001b[0m: 'a' is not in list"
     ]
    }
   ],
   "source": [
    "chars.index('a')"
   ]
  },
  {
   "cell_type": "code",
   "execution_count": 52,
   "metadata": {},
   "outputs": [
    {
     "name": "stdout",
     "output_type": "stream",
     "text": [
      "{'a': 0} 1\n",
      "{'a': 1} 1\n",
      "{'a': 1, 'b': 2} 2\n",
      "{'a': 3, 'b': 2} 2\n",
      "{'a': 4, 'b': 2} 2\n",
      "{'a': 4, 'b': 5} 4\n",
      "{'a': 4, 'b': 5, '!': 6} 5\n",
      "{'a': 4, 'b': 7, '!': 6} 5\n",
      "{'a': 4, 'b': 8, '!': 6} 5\n"
     ]
    },
    {
     "data": {
      "text/plain": [
       "(5, 5)"
      ]
     },
     "execution_count": 52,
     "metadata": {},
     "output_type": "execute_result"
    }
   ],
   "source": [
    "s = 'aabaab!bb'\n",
    "cur_len = 0\n",
    "max_len = 0\n",
    "chars = {}\n",
    "start = 0\n",
    "for i in range(len(s)):\n",
    "    if s[i] not in chars.keys():\n",
    "        chars[s[i]] = i\n",
    "        cur_len+=1\n",
    "    else:\n",
    "        if cur_len > max_len:\n",
    "            max_len = cur_len\n",
    "        prev_start = start\n",
    "        cur_len += (start - chars[s[i]])   \n",
    "        for k in range(prev_start, chars[s[i]]):\n",
    "            chars.pop(s[k])\n",
    "        start = i\n",
    "        chars[s[i]] = i\n",
    "    print(chars, cur_len)\n",
    "    \n",
    "max_len, cur_len"
   ]
  }
 ],
 "metadata": {
  "kernelspec": {
   "display_name": "Python 3",
   "language": "python",
   "name": "python3"
  },
  "language_info": {
   "codemirror_mode": {
    "name": "ipython",
    "version": 3
   },
   "file_extension": ".py",
   "mimetype": "text/x-python",
   "name": "python",
   "nbconvert_exporter": "python",
   "pygments_lexer": "ipython3",
   "version": "3.11.2"
  },
  "orig_nbformat": 4
 },
 "nbformat": 4,
 "nbformat_minor": 2
}
